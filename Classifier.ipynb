{
 "cells": [
  {
   "cell_type": "code",
   "execution_count": 1,
   "metadata": {},
   "outputs": [
    {
     "data": {
      "text/plain": [
       "<torch._C.Generator at 0x2acb6db3e30>"
      ]
     },
     "execution_count": 1,
     "metadata": {},
     "output_type": "execute_result"
    }
   ],
   "source": [
    "import matplotlib.pyplot as plt\n",
    "import os\n",
    "from PIL import Image\n",
    "import random\n",
    "import torch\n",
    "import torchvision.transforms as transforms\n",
    "from torch.utils.data import Dataset, DataLoader\n",
    "import torch.nn as nn\n",
    "torch.manual_seed(0)\n"
   ]
  },
  {
   "cell_type": "markdown",
   "metadata": {},
   "source": [
    "## Separating and Labeling Data"
   ]
  },
  {
   "cell_type": "code",
   "execution_count": 2,
   "metadata": {},
   "outputs": [
    {
     "name": "stdout",
     "output_type": "stream",
     "text": [
      "['Data/b\\\\b2.jpg', 1]\n"
     ]
    }
   ],
   "source": [
    "all_files = []\n",
    "train_data = []\n",
    "labels = []\n",
    "train_directory = \"Data/\"\n",
    "for letter in os.listdir(train_directory):\n",
    "    letter_dir = os.path.join(train_directory, letter)\n",
    "    letter_files = [os.path.join(letter_dir,file) for file in os.listdir(letter_dir) if file.endswith(\".jpg\")]\n",
    "    letter_files.sort()\n",
    "    for sample in letter_files:\n",
    "        labels.append(ord(letter)%97)\n",
    "        train_data.append([sample, ord(letter)%97]) # Labeling data given the directory name\n",
    "\n",
    "print(train_data[100])"
   ]
  },
  {
   "cell_type": "code",
   "execution_count": 9,
   "metadata": {},
   "outputs": [],
   "source": [
    "class Dataset(Dataset):\n",
    "    def __init__(self, transform=None, train=True):\n",
    "        self.all_files = []\n",
    "        self.train_data = []\n",
    "        self.labels = []\n",
    "        self.transform = transform\n",
    "\n",
    "        for letter in os.listdir(train_directory):\n",
    "            letter_dir = os.path.join(train_directory, letter)\n",
    "            letter_files = [os.path.join(letter_dir,file) for file in os.listdir(letter_dir) if file.endswith(\".jpg\")]\n",
    "            letter_files.sort()\n",
    "            for sample in letter_files:\n",
    "                label = ord(letter)%97 # Modularlly divides by 97 to label chars a-z with ints 0-25\n",
    "                self.labels.append(label)\n",
    "                self.all_files.append(sample)\n",
    "                train_data.append([sample, label]) # Labeling data given the directory name\n",
    "        \n",
    "        random.seed(1)\n",
    "        random.shuffle(self.all_files)\n",
    "        random.shuffle(self.labels)\n",
    "        # Shuffle the order of the images\n",
    "        # Using a 70/30 split\n",
    "        if train:\n",
    "            self.all_files = self.all_files[::1600]\n",
    "            self.labels = self.labels[::1600]\n",
    "            self.len = len(self.all_files)\n",
    "        else: \n",
    "            self.all_files = self.all_files[1600::]\n",
    "            self.labels = self.labels[1600::]\n",
    "            self.len = len(self.all_files)\n",
    "        \n",
    "    def __len__(self):\n",
    "        return self.len\n",
    "\n",
    "    def __getitem__(self, id):\n",
    "        image = Image.open(self.all_files[id])\n",
    "        label = self.labels[id]\n",
    "\n",
    "        if self.transform: # Apply a transform if needed\n",
    "            image = self.transform(image)\n",
    "\n",
    "        return image, label"
   ]
  },
  {
   "cell_type": "markdown",
   "metadata": {},
   "source": [
    "## Creating Dataset"
   ]
  },
  {
   "cell_type": "code",
   "execution_count": 10,
   "metadata": {},
   "outputs": [],
   "source": [
    "train_dataset = Dataset(transform=transforms.ToTensor(), train=True)\n",
    "validation_dataset = Dataset(transform=transforms.ToTensor(), train=False)"
   ]
  },
  {
   "cell_type": "markdown",
   "metadata": {},
   "source": [
    "## Linear Classifier"
   ]
  },
  {
   "cell_type": "code",
   "execution_count": 11,
   "metadata": {},
   "outputs": [],
   "source": [
    "class SoftMax(nn.Module):\n",
    "    \n",
    "    # Constructor\n",
    "    def __init__(self, input_size, output_size):\n",
    "        super(SoftMax, self).__init__()\n",
    "        # Creates a layer of given input size and output size\n",
    "        self.linear = nn.Linear(input_size, output_size)\n",
    "        \n",
    "    # Prediction\n",
    "    def forward(self, x):\n",
    "        # Runs the x value through the single layers defined above\n",
    "        z = self.linear(x)\n",
    "        return z"
   ]
  },
  {
   "cell_type": "code",
   "execution_count": 40,
   "metadata": {},
   "outputs": [
    {
     "name": "stdout",
     "output_type": "stream",
     "text": [
      "the device type is cuda:0\n"
     ]
    }
   ],
   "source": [
    "# Linear classifier here\n",
    "input_dimension = 160 * 148 # Dimensions of each image\n",
    "output_dimension = 26 # Number of lowercase characters \n",
    "model = SoftMax(input_dimension, output_dimension)\n",
    "\n",
    "# We want the model to run on the GPU\n",
    "device = torch.device(\"cuda:0\" if torch.cuda.is_available() else \"cpu\")\n",
    "print(\"the device type is\", device)\n",
    "model.cuda()\n",
    "\n",
    "trainloader = DataLoader(dataset=train_dataset, batch_size=100)\n",
    "validationloader = DataLoader(dataset=validation_dataset, batch_size=50)\n",
    "\n",
    "criterion = nn.CrossEntropyLoss()\n",
    "optimizer = torch.optim.SGD(model.parameters(), lr=0.0001)"
   ]
  },
  {
   "cell_type": "code",
   "execution_count": 41,
   "metadata": {},
   "outputs": [
    {
     "name": "stdout",
     "output_type": "stream",
     "text": [
      "Print the model:\n",
      "  SoftMax(\n",
      "  (linear): Linear(in_features=23680, out_features=26, bias=True)\n",
      ")\n",
      "W:  torch.Size([26, 23680])\n",
      "b:  torch.Size([26])\n",
      "torch.Size([1, 148, 160])\n"
     ]
    }
   ],
   "source": [
    "print(\"Print the model:\\n \", model)\n",
    "print('W: ',list(model.parameters())[0].size())\n",
    "print('b: ',list(model.parameters())[1].size())\n",
    "\n",
    "X = train_dataset[0][0].shape\n",
    "print(X)"
   ]
  },
  {
   "cell_type": "code",
   "execution_count": 42,
   "metadata": {},
   "outputs": [],
   "source": [
    "loss_list = []\n",
    "accuracy_list = []\n",
    "\n",
    "def trainModel(num_epochs):\n",
    "    for epoch in range(num_epochs):\n",
    "        for x,y in trainloader:\n",
    "            x,y = x.to(device), y.to(device)\n",
    "            optimizer.zero_grad()\n",
    "            prediction = model(x.view(-1, 148*160))\n",
    "            loss = criterion(prediction,y)\n",
    "            loss.backward()\n",
    "            optimizer.step()\n",
    "\n",
    "        num_correct = 0\n",
    "        for x_test, y_test in validationloader:\n",
    "            x_test, y_test = x_test.to(device), y_test.to(device)\n",
    "            prediction = model(x_test.view(-1, 148*160))\n",
    "            # Find the class with the highest output\n",
    "            _, yhat = torch.max(prediction.data, 1)\n",
    "            num_correct += (yhat == y_test).sum().item()\n",
    "        accuracy = len(validation_dataset) / num_correct\n",
    "        loss_list.append(loss.cpu().data)\n",
    "        accuracy_list.append(accuracy)\n",
    "\n",
    "trainModel(10)"
   ]
  },
  {
   "cell_type": "code",
   "execution_count": 43,
   "metadata": {},
   "outputs": [
    {
     "data": {
      "image/png": "[encoded data removed]",
      "text/plain": [
       "<Figure size 432x288 with 2 Axes>"
      ]
     },
     "metadata": {
      "needs_background": "light"
     },
     "output_type": "display_data"
    }
   ],
   "source": [
    "# Handy plotting info\n",
    "fig, ax1 = plt.subplots()\n",
    "\n",
    "color = 'tab:red'\n",
    "ax1.plot(loss_list,color=color)\n",
    "ax1.set_xlabel('epoch',color=color)\n",
    "ax1.set_ylabel('total loss',color=color)\n",
    "ax1.tick_params(axis='y', color=color)\n",
    "   \n",
    "ax2 = ax1.twinx()  \n",
    "color = 'tab:blue'\n",
    "ax2.set_ylabel('accuracy', color=color)  \n",
    "ax2.plot( accuracy_list, color=color)\n",
    "ax2.tick_params(axis='y', color=color)\n",
    "fig.tight_layout()"
   ]
  },
  {
   "cell_type": "code",
   "execution_count": 44,
   "metadata": {},
   "outputs": [
    {
     "name": "stdout",
     "output_type": "stream",
     "text": [
      "[tensor(3.4025), tensor(2.9454), tensor(2.5289), tensor(2.1645), tensor(1.8603), tensor(1.6172), tensor(1.4294), tensor(1.2866), tensor(1.1785), tensor(1.0958)]\n",
      "34.4\n"
     ]
    }
   ],
   "source": [
    "print(loss_list)\n",
    "print(max(accuracy_list))"
   ]
  },
  {
   "cell_type": "code",
   "execution_count": null,
   "metadata": {},
   "outputs": [],
   "source": []
  }
 ],
 "metadata": {
  "interpreter": {
   "hash": "0ae462a97abc997cdc3a3ad06b5cf4dedc81b27c4ed52cd1478006d3881e08e5"
  },
  "kernelspec": {
   "display_name": "Python 3.9.1 64-bit",
   "language": "python",
   "name": "python3"
  },
  "language_info": {
   "codemirror_mode": {
    "name": "ipython",
    "version": 3
   },
   "file_extension": ".py",
   "mimetype": "text/x-python",
   "name": "python",
   "nbconvert_exporter": "python",
   "pygments_lexer": "ipython3",
   "version": "3.9.1"
  },
  "orig_nbformat": 4
 },
 "nbformat": 4,
 "nbformat_minor": 2
}
