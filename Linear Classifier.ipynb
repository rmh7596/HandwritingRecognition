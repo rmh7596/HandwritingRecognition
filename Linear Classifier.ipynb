{
 "cells": [
  {
   "cell_type": "code",
   "execution_count": 3,
   "metadata": {},
   "outputs": [
    {
     "data": {
      "text/plain": [
       "<torch._C.Generator at 0x193b3349690>"
      ]
     },
     "execution_count": 3,
     "metadata": {},
     "output_type": "execute_result"
    }
   ],
   "source": [
    "import matplotlib.pyplot as plt\n",
    "import os\n",
    "from PIL import Image\n",
    "import random\n",
    "import torch\n",
    "import torchvision.transforms as transforms\n",
    "from torch.utils.data import Dataset, DataLoader\n",
    "import torch.nn as nn\n",
    "torch.manual_seed(0)\n"
   ]
  },
  {
   "cell_type": "markdown",
   "metadata": {},
   "source": [
    "## Separating and Labeling Data"
   ]
  },
  {
   "cell_type": "code",
   "execution_count": 37,
   "metadata": {},
   "outputs": [],
   "source": [
    "all_files = []\n",
    "labels = []\n",
    "train_directory = \"Data/\"\n",
    "for letter in os.listdir(train_directory):\n",
    "    letter_dir = os.path.join(train_directory, letter)\n",
    "    letter_files = [os.path.join(letter_dir,file) for file in os.listdir(letter_dir) if file.endswith(\".jpg\")]\n",
    "    letter_files.sort()\n",
    "    for sample in letter_files:\n",
    "        labels.append(ord(letter)%97)\n"
   ]
  },
  {
   "cell_type": "code",
   "execution_count": 40,
   "metadata": {},
   "outputs": [],
   "source": [
    "class Dataset(Dataset):\n",
    "    def __init__(self, transform=None, train=True):\n",
    "        self.all_files = []\n",
    "        self.labels = []\n",
    "        self.transform = transform\n",
    "\n",
    "        for letter in os.listdir(train_directory):\n",
    "            letter_dir = os.path.join(train_directory, letter)\n",
    "            letter_files = [os.path.join(letter_dir,file) for file in os.listdir(letter_dir) if file.endswith(\".jpg\")]\n",
    "            letter_files.sort()\n",
    "            for sample in letter_files:\n",
    "                label = ord(letter)%97 # Modularlly divides by 97 to label chars a-z with ints 0-25\n",
    "                self.labels.append(label)\n",
    "                self.all_files.append(sample)\n",
    "        \n",
    "        random.seed(1)\n",
    "        random.shuffle(self.all_files)\n",
    "        random.shuffle(self.labels)\n",
    "        # Shuffle the order of the images\n",
    "        # Using a 90/10 split\n",
    "        if train:\n",
    "            self.all_files = self.all_files[::2060]\n",
    "            self.labels = self.labels[::2060]\n",
    "            self.len = len(self.all_files)\n",
    "        else: \n",
    "            self.all_files = self.all_files[2060::]\n",
    "            self.labels = self.labels[2060::]\n",
    "            self.len = len(self.all_files)\n",
    "        \n",
    "    def __len__(self):\n",
    "        return self.len\n",
    "\n",
    "    def __getitem__(self, id):\n",
    "        image = Image.open(self.all_files[id])\n",
    "        label = self.labels[id]\n",
    "\n",
    "        if self.transform: # Apply a transform if needed\n",
    "            image = self.transform(image)\n",
    "\n",
    "        return image, label"
   ]
  },
  {
   "cell_type": "markdown",
   "metadata": {},
   "source": [
    "## Creating Dataset"
   ]
  },
  {
   "cell_type": "code",
   "execution_count": 41,
   "metadata": {},
   "outputs": [],
   "source": [
    "train_dataset = Dataset(transform=transforms.ToTensor(), train=True)\n",
    "mean, mean_squared = 0.0, 0.0\n",
    "\n",
    "for image, _ in train_dataset:\n",
    "    mean += image[0].mean()\n",
    "    mean_squared += torch.mean(image**2)\n",
    "\n",
    "mean = mean/len(train_dataset)\n",
    "#std = sqrt(E[X^2] - (E[X])^2)\n",
    "std = (mean_squared / len(train_dataset) - mean ** 2) ** 0.5\n",
    "\n",
    "composed = transforms.Compose([transforms.ToTensor(), transforms.Normalize(mean, std)])\n",
    "train_dataset = Dataset(transform=composed, train=True)\n",
    "validation_dataset = Dataset(transform=composed, train=False)"
   ]
  },
  {
   "cell_type": "markdown",
   "metadata": {},
   "source": [
    "## Linear Classifier"
   ]
  },
  {
   "cell_type": "code",
   "execution_count": 42,
   "metadata": {},
   "outputs": [],
   "source": [
    "class SoftMax(nn.Module):\n",
    "    \n",
    "    # Constructor\n",
    "    def __init__(self, input_size, output_size):\n",
    "        super(SoftMax, self).__init__()\n",
    "        # Creates a layer of given input size and output size\n",
    "        self.linear = nn.Linear(input_size, output_size)\n",
    "        \n",
    "    # Prediction\n",
    "    def forward(self, x):\n",
    "        # Runs the x value through the single layers defined above\n",
    "        z = self.linear(x)\n",
    "        return z"
   ]
  },
  {
   "cell_type": "code",
   "execution_count": 89,
   "metadata": {},
   "outputs": [],
   "source": [
    "# Linear classifier here\n",
    "input_dimension = 160 * 148 # Dimensions of each image\n",
    "output_dimension = 26 # Number of lowercase characters \n",
    "model = SoftMax(input_dimension, output_dimension)\n",
    "\n",
    "# We want the model to run on the GPU\n",
    "device = torch.device(\"cuda:0\" if torch.cuda.is_available() else \"cpu\")\n",
    "model.cuda()\n",
    "\n",
    "trainloader = DataLoader(dataset=train_dataset, batch_size=1)\n",
    "validationloader = DataLoader(dataset=validation_dataset, batch_size=1)\n",
    "\n",
    "criterion = nn.CrossEntropyLoss()\n",
    "optimizer = torch.optim.SGD(model.parameters(), lr=0.0001)"
   ]
  },
  {
   "cell_type": "code",
   "execution_count": 99,
   "metadata": {},
   "outputs": [],
   "source": [
    "loss_list = []\n",
    "accuracy_list = []\n",
    "\n",
    "def trainModel(num_epochs):\n",
    "    for epoch in range(num_epochs):\n",
    "        for x,y in trainloader:\n",
    "            x,y = x.to(device), y.to(device)\n",
    "            optimizer.zero_grad()\n",
    "            model.train()\n",
    "            prediction = model(x.view(-1, 148*160))\n",
    "            loss = criterion(prediction,y)\n",
    "            loss.backward()\n",
    "            optimizer.step()\n",
    "\n",
    "        num_correct = 0\n",
    "        for x_test, y_test in validationloader:\n",
    "            x_test, y_test = x_test.to(device), y_test.to(device)\n",
    "            prediction = model(x_test.view(-1, 148*160))\n",
    "            # Find the class with the highest output\n",
    "            _, yhat = torch.max(prediction.data, 1)\n",
    "            num_correct += (yhat == y_test).sum().item()\n",
    "        accuracy = len(validation_dataset) / num_correct\n",
    "        loss_list.append(loss.cpu().data)\n",
    "        accuracy_list.append(accuracy)\n",
    "\n",
    "trainModel(50)"
   ]
  },
  {
   "cell_type": "code",
   "execution_count": 100,
   "metadata": {},
   "outputs": [
    {
     "data": {
      "image/png": "[encoded data removed]",
      "text/plain": [
       "<Figure size 432x288 with 2 Axes>"
      ]
     },
     "metadata": {
      "needs_background": "light"
     },
     "output_type": "display_data"
    }
   ],
   "source": [
    "# Handy plotting info\n",
    "fig, ax1 = plt.subplots()\n",
    "\n",
    "color = 'tab:red'\n",
    "ax1.plot(loss_list,color=color)\n",
    "ax1.set_xlabel('epoch',color=color)\n",
    "ax1.set_ylabel('total loss',color=color)\n",
    "ax1.tick_params(axis='y', color=color)\n",
    "   \n",
    "ax2 = ax1.twinx()  \n",
    "color = 'tab:blue'\n",
    "ax2.set_ylabel('accuracy', color=color)  \n",
    "ax2.plot( accuracy_list, color=color)\n",
    "ax2.tick_params(axis='y', color=color)\n",
    "fig.tight_layout()"
   ]
  },
  {
   "cell_type": "code",
   "execution_count": 101,
   "metadata": {},
   "outputs": [
    {
     "name": "stdout",
     "output_type": "stream",
     "text": [
      "[tensor(0.0027), tensor(0.0027), tensor(0.0027), tensor(0.0026), tensor(0.0026), tensor(0.0026), tensor(0.0026), tensor(0.0026), tensor(0.0026), tensor(0.0025), tensor(0.0025), tensor(0.0025), tensor(0.0025), tensor(0.0025), tensor(0.0025), tensor(0.0025), tensor(0.0024), tensor(0.0024), tensor(0.0024), tensor(0.0024), tensor(0.0024), tensor(0.0024), tensor(0.0024), tensor(0.0023), tensor(0.0023), tensor(0.0023), tensor(0.0023), tensor(0.0023), tensor(0.0023), tensor(0.0023), tensor(0.0023), tensor(0.0022), tensor(0.0022), tensor(0.0022), tensor(0.0022), tensor(0.0022), tensor(0.0022), tensor(0.0022), tensor(0.0022), tensor(0.0022), tensor(0.0021), tensor(0.0021), tensor(0.0021), tensor(0.0021), tensor(0.0021), tensor(0.0021), tensor(0.0021), tensor(0.0021), tensor(0.0021), tensor(0.0021)]\n",
      "25.333333333333332\n"
     ]
    }
   ],
   "source": [
    "print(loss_list)\n",
    "print(max(accuracy_list))"
   ]
  },
  {
   "cell_type": "code",
   "execution_count": null,
   "metadata": {},
   "outputs": [],
   "source": []
  }
 ],
 "metadata": {
  "interpreter": {
   "hash": "27fdb830c27f0a047a6dcc087b815e53160954e0eabbd31275edc16083b81397"
  },
  "kernelspec": {
   "display_name": "Python 3.9.1 64-bit",
   "language": "python",
   "name": "python3"
  },
  "language_info": {
   "codemirror_mode": {
    "name": "ipython",
    "version": 3
   },
   "file_extension": ".py",
   "mimetype": "text/x-python",
   "name": "python",
   "nbconvert_exporter": "python",
   "pygments_lexer": "ipython3",
   "version": "3.9.1"
  },
  "orig_nbformat": 4
 },
 "nbformat": 4,
 "nbformat_minor": 2
}
